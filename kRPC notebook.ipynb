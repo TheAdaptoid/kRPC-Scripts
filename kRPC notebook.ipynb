{
 "cells": [
  {
   "cell_type": "code",
   "execution_count": 60,
   "metadata": {},
   "outputs": [
    {
     "name": "stdout",
     "output_type": "stream",
     "text": [
      "<krpc.client.Client object at 0x0000022963641370>\n"
     ]
    }
   ],
   "source": [
    "import krpc\n",
    "connection = krpc.connect(\n",
    "    name=\"Ascent Guidance\",\n",
    ")\n",
    "print(connection)"
   ]
  },
  {
   "cell_type": "code",
   "execution_count": 61,
   "metadata": {},
   "outputs": [],
   "source": [
    "from krpc.services.spacecenter import Vessel\n",
    "from krpc.services import spacecenter\n",
    "from krpc.stream import Stream\n",
    "\n",
    "from threading import Thread\n",
    "from time import sleep\n",
    "\n",
    "TARGET_APOAPSIS:int = 100000\n",
    "TARGET_INCLINE: float = 90.0\n",
    "\n",
    "NEWTON_TO_KILIGRAM: float = 1.0 / 9.80665"
   ]
  },
  {
   "cell_type": "markdown",
   "metadata": {},
   "source": [
    "# Preparations"
   ]
  },
  {
   "cell_type": "code",
   "execution_count": 62,
   "metadata": {},
   "outputs": [],
   "source": [
    "activeVessel: Vessel = connection.space_center.active_vessel\n",
    "\n",
    "altitudeStream: Stream = connection.add_stream(getattr, activeVessel.flight(), 'mean_altitude')\n",
    "apoapsisStream: Stream = connection.add_stream(getattr, activeVessel.orbit, 'apoapsis_altitude')\n",
    "periapsisStream: Stream = connection.add_stream(getattr, activeVessel.orbit, 'periapsis_altitude')"
   ]
  },
  {
   "cell_type": "markdown",
   "metadata": {},
   "source": [
    "# Launch Pad"
   ]
  },
  {
   "cell_type": "code",
   "execution_count": 63,
   "metadata": {},
   "outputs": [
    {
     "name": "stdout",
     "output_type": "stream",
     "text": [
      "T - 5\n",
      "T - 4\n",
      "T - 3, Activating engines...\n",
      "T - 2\n",
      "T - 1\n",
      "T - 0, Liftoff!\n"
     ]
    }
   ],
   "source": [
    "def Activate_First_Stage_Engines() -> None:\n",
    "    # Find non SRB engines\n",
    "    nonSRBEngines: list[spacecenter.Engine] = [\n",
    "        nonSRB for nonSRB in [\n",
    "\n",
    "            # Find first stage engines\n",
    "            part.engine for part in activeVessel.parts.in_stage(\n",
    "\n",
    "                # Determine first stage number, indexing from 0\n",
    "                stage=activeVessel.control.current_stage - 1\n",
    "            ) if part.engine is not None\n",
    "        ] if nonSRB.can_shutdown\n",
    "    ]\n",
    "\n",
    "    # Set throttle to 0\n",
    "    activeVessel.control.throttle = 0\n",
    "\n",
    "    # Activate engines\n",
    "    for engine in nonSRBEngines:\n",
    "        engine.active = True\n",
    "\n",
    "    # Throttle up\n",
    "    while activeVessel.control.throttle < 1:\n",
    "        activeVessel.control.throttle += 0.05\n",
    "        sleep(0.1)\n",
    "\n",
    "# Countdown\n",
    "for time in range(5, 0, -1):\n",
    "    if time == 3: \n",
    "        throttleThread = Thread(target=Activate_First_Stage_Engines)\n",
    "        throttleThread.start()\n",
    "        print(\"T - 3, Activating engines...\")\n",
    "\n",
    "    else: print(f\"T - {time}\")\n",
    "\n",
    "    sleep(1)\n",
    "\n",
    "# Release clamps\n",
    "activeVessel.control.activate_next_stage()\n",
    "print(\"T - 0, Liftoff!\")"
   ]
  },
  {
   "cell_type": "markdown",
   "metadata": {},
   "source": [
    "# Ascent"
   ]
  },
  {
   "cell_type": "code",
   "execution_count": 64,
   "metadata": {},
   "outputs": [
    {
     "name": "stdout",
     "output_type": "stream",
     "text": [
      "Clearing Tower...\n",
      "Adjusting Heading...\n",
      "Conducting Gravity Turn...\n"
     ]
    }
   ],
   "source": [
    "def Gravity_Turn_Control() -> None:\n",
    "    # Calculate target pitch angle\n",
    "    targetPitchAngle: float = 90 - (\n",
    "        abs(apoapsisStream() / TARGET_APOAPSIS) * 90\n",
    "    )\n",
    "\n",
    "    # Adjust pitch\n",
    "    activeVessel.auto_pilot.target_pitch = targetPitchAngle\n",
    "\n",
    "def Staging_Control() -> None:\n",
    "    # Get current the engines of the current stage\n",
    "    engines: list[spacecenter.Engine] = [\n",
    "        part.engine for part in activeVessel.parts.in_stage(\n",
    "            stage=activeVessel.control.current_stage\n",
    "        ) if part.engine is not None\n",
    "    ]\n",
    "    fairings: list[spacecenter.Fairing] = [\n",
    "        part.fairing for part in activeVessel.parts.in_stage(\n",
    "            stage=activeVessel.control.current_stage\n",
    "        ) if part.fairing is not None\n",
    "    ]\n",
    "\n",
    "    # if there are no engines, stage\n",
    "    if len(engines) == 0 and len(fairings) == 0:\n",
    "        activeVessel.control.activate_next_stage()\n",
    "\n",
    "    # if engine is producing no thrust, stage\n",
    "    for engine in engines:\n",
    "        if engine.thrust <= 0:\n",
    "            activeVessel.control.activate_next_stage()\n",
    "            break\n",
    "\n",
    "# Lock Control\n",
    "activeVessel.auto_pilot.engage()\n",
    "activeVessel.control.sas = True\n",
    "activeVessel.control.rcs = True\n",
    "\n",
    "# Clear Tower\n",
    "print(\"Clearing Tower...\")\n",
    "while altitudeStream() < 300:\n",
    "    activeVessel.auto_pilot.target_pitch = 90\n",
    "    sleep(0.1)\n",
    "\n",
    "# Heading Adjustment\n",
    "print(\"Adjusting Heading...\")\n",
    "activeVessel.auto_pilot.target_heading = TARGET_INCLINE\n",
    "\n",
    "# Main Guidance Loop\n",
    "print(\"Conducting Gravity Turn...\")\n",
    "while apoapsisStream() < TARGET_APOAPSIS:\n",
    "    Gravity_Turn_Control()\n",
    "    Staging_Control()\n",
    "\n",
    "# Engine Cut Off\n",
    "activeVessel.control.throttle = 0\n",
    "\n",
    "# Unlock Control\n",
    "activeVessel.auto_pilot.disengage()\n",
    "activeVessel.control.sas = False\n",
    "activeVessel.control.rcs = False"
   ]
  },
  {
   "cell_type": "markdown",
   "metadata": {},
   "source": [
    "# Circularization"
   ]
  },
  {
   "cell_type": "code",
   "execution_count": 65,
   "metadata": {},
   "outputs": [
    {
     "name": "stdout",
     "output_type": "stream",
     "text": [
      "Estimated burn time: 36.49096276880013 seconds\n",
      "Orbit Complete!\n"
     ]
    }
   ],
   "source": [
    "def Get_Apoapsis_UT() -> float:\n",
    "    \"\"\"\n",
    "    Returns the **Universal Time** at which the vessel will reach Apoapsis\n",
    "\n",
    "    Returns:\n",
    "        float: **Universal Time**, in seconds, at which the vessel will reach Apoapsis\n",
    "    \"\"\"\n",
    "    currentUT: float = connection.space_center.ut\n",
    "    timeTilApoapsis: float = activeVessel.orbit.time_to_apoapsis\n",
    "    return currentUT + timeTilApoapsis\n",
    "\n",
    "def In_Range(value: float, center: float, range: float) -> bool:\n",
    "    \"\"\"\n",
    "    Determines if a value is within a range of a central value.\\n\n",
    "    As in, `value` within +/- `range` of `center`\n",
    "\n",
    "    Parameters:\n",
    "        value (float): The value to be checked\n",
    "        center (float): The central value\n",
    "        range (float): The range of the central value\n",
    "\n",
    "    Returns:\n",
    "        bool: True if the value is within the range of the central value\n",
    "    \"\"\"\n",
    "    return True if (center - range < value) and (value < center + range) else False\n",
    "\n",
    "def Calc_Basic_Accel() -> float:\n",
    "    \"\"\"\n",
    "    Returns the **Basic Acceleration** of the vessel\n",
    "\n",
    "    Returns:\n",
    "        float: Acceleration, in m/s**2\n",
    "    \"\"\"\n",
    "    maxThurst: float = activeVessel.available_thrust\n",
    "    mass: float = activeVessel.mass\n",
    "    return maxThurst / mass\n",
    "\n",
    "# Initialize maneuver node\n",
    "baseNode: spacecenter.Node = activeVessel.control.add_node(\n",
    "    ut=Get_Apoapsis_UT()\n",
    ")\n",
    "\n",
    "# Hill climb to target orbit\n",
    "while not In_Range(baseNode.orbit.periapsis_altitude, TARGET_APOAPSIS, 1000):\n",
    "    newProgradeVelocity: float = 0\n",
    "\n",
    "    # Adjust prograde velocity\n",
    "    if baseNode.orbit.periapsis_altitude < TARGET_APOAPSIS:\n",
    "        newProgradeVelocity = baseNode.prograde + 1\n",
    "    else: newProgradeVelocity = baseNode.prograde - 1\n",
    "\n",
    "    # Create a new maneuver node\n",
    "    baseNode.remove()\n",
    "    baseNode = activeVessel.control.add_node(\n",
    "        ut=Get_Apoapsis_UT(),\n",
    "        prograde=newProgradeVelocity\n",
    "    )\n",
    "\n",
    "# Lock Control\n",
    "activeVessel.auto_pilot.engage()\n",
    "activeVessel.control.sas = True\n",
    "activeVessel.control.rcs = True\n",
    "\n",
    "# Coast to T-(0.5 * burnTime)\n",
    "totalBurnTime: float = baseNode.delta_v / Calc_Basic_Accel()\n",
    "print(f\"Estimated burn time: {totalBurnTime} seconds\")\n",
    "burnStartUT: float = baseNode.ut - 0.5 * totalBurnTime\n",
    "connection.space_center.warp_to(burnStartUT)\n",
    "\n",
    "# Point to node\n",
    "activeVessel.auto_pilot.target_direction = baseNode.direction(activeVessel.surface_reference_frame)\n",
    "activeVessel.auto_pilot.wait()\n",
    "\n",
    "# Do Burn and Update vector\n",
    "activeVessel.control.throttle = 1\n",
    "sleep(0.1)\n",
    "while not In_Range(activeVessel.orbit.periapsis_altitude, TARGET_APOAPSIS, 1000):\n",
    "    # Point to node\n",
    "    activeVessel.auto_pilot.target_direction = baseNode.direction(\n",
    "        activeVessel.surface_reference_frame\n",
    "    )\n",
    "\n",
    "    # Check staging\n",
    "    Staging_Control()\n",
    "\n",
    "# Orbit completion\n",
    "activeVessel.control.throttle = 0\n",
    "activeVessel.auto_pilot.disengage()\n",
    "activeVessel.control.sas = False\n",
    "activeVessel.control.rcs = False\n",
    "\n",
    "print(\"Orbit Complete!\")"
   ]
  }
 ],
 "metadata": {
  "kernelspec": {
   "display_name": ".venv",
   "language": "python",
   "name": "python3"
  },
  "language_info": {
   "codemirror_mode": {
    "name": "ipython",
    "version": 3
   },
   "file_extension": ".py",
   "mimetype": "text/x-python",
   "name": "python",
   "nbconvert_exporter": "python",
   "pygments_lexer": "ipython3",
   "version": "3.13.0"
  }
 },
 "nbformat": 4,
 "nbformat_minor": 2
}
